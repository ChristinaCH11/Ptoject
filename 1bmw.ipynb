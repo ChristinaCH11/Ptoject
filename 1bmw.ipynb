{
 "cells": [
  {
   "cell_type": "code",
   "execution_count": 7,
   "id": "d672145b",
   "metadata": {},
   "outputs": [],
   "source": [
    "import pandas as pd\n",
    "import numpy as np\n",
    "\n",
    "%matplotlib inline\n",
    "import matplotlib\n",
    "import matplotlib.pyplot as plt\n",
    "import seaborn as sns\n",
    "\n",
    "import zipfile\n",
    "\n",
    "import os\n",
    "from sklearn.model_selection import train_test_split \n",
    "\n",
    "for dirname, _, filenames in os.walk('bmw_price(2020) data.csv'):\n",
    "    for filename in filenames:\n",
    "        print(os.path.join(dirname, filename))"
   ]
  },
  {
   "cell_type": "code",
   "execution_count": 8,
   "id": "67d3d5a5",
   "metadata": {},
   "outputs": [
    {
     "data": {
      "text/html": [
       "<div>\n",
       "<style scoped>\n",
       "    .dataframe tbody tr th:only-of-type {\n",
       "        vertical-align: middle;\n",
       "    }\n",
       "\n",
       "    .dataframe tbody tr th {\n",
       "        vertical-align: top;\n",
       "    }\n",
       "\n",
       "    .dataframe thead th {\n",
       "        text-align: right;\n",
       "    }\n",
       "</style>\n",
       "<table border=\"1\" class=\"dataframe\">\n",
       "  <thead>\n",
       "    <tr style=\"text-align: right;\">\n",
       "      <th></th>\n",
       "      <th>model</th>\n",
       "      <th>year</th>\n",
       "      <th>price</th>\n",
       "      <th>type</th>\n",
       "      <th>distance</th>\n",
       "      <th>fuel</th>\n",
       "      <th>tax</th>\n",
       "      <th>miles per galoon</th>\n",
       "      <th>size</th>\n",
       "    </tr>\n",
       "  </thead>\n",
       "  <tbody>\n",
       "    <tr>\n",
       "      <th>0</th>\n",
       "      <td>5 Series</td>\n",
       "      <td>2014</td>\n",
       "      <td>11200</td>\n",
       "      <td>Automatic</td>\n",
       "      <td>67068</td>\n",
       "      <td>Diesel</td>\n",
       "      <td>125</td>\n",
       "      <td>57.6</td>\n",
       "      <td>2.0</td>\n",
       "    </tr>\n",
       "    <tr>\n",
       "      <th>1</th>\n",
       "      <td>X1</td>\n",
       "      <td>2017</td>\n",
       "      <td>18500</td>\n",
       "      <td>Semi-Auto</td>\n",
       "      <td>12160</td>\n",
       "      <td>Diesel</td>\n",
       "      <td>145</td>\n",
       "      <td>65.7</td>\n",
       "      <td>2.0</td>\n",
       "    </tr>\n",
       "    <tr>\n",
       "      <th>2</th>\n",
       "      <td>3 Series</td>\n",
       "      <td>2017</td>\n",
       "      <td>18300</td>\n",
       "      <td>Semi-Auto</td>\n",
       "      <td>20000</td>\n",
       "      <td>Diesel</td>\n",
       "      <td>150</td>\n",
       "      <td>62.8</td>\n",
       "      <td>2.0</td>\n",
       "    </tr>\n",
       "    <tr>\n",
       "      <th>3</th>\n",
       "      <td>1 Series</td>\n",
       "      <td>2019</td>\n",
       "      <td>29398</td>\n",
       "      <td>Semi-Auto</td>\n",
       "      <td>9983</td>\n",
       "      <td>Petrol</td>\n",
       "      <td>145</td>\n",
       "      <td>39.8</td>\n",
       "      <td>3.0</td>\n",
       "    </tr>\n",
       "    <tr>\n",
       "      <th>4</th>\n",
       "      <td>3 Series</td>\n",
       "      <td>2018</td>\n",
       "      <td>22998</td>\n",
       "      <td>Semi-Auto</td>\n",
       "      <td>16360</td>\n",
       "      <td>Diesel</td>\n",
       "      <td>145</td>\n",
       "      <td>57.7</td>\n",
       "      <td>2.0</td>\n",
       "    </tr>\n",
       "    <tr>\n",
       "      <th>...</th>\n",
       "      <td>...</td>\n",
       "      <td>...</td>\n",
       "      <td>...</td>\n",
       "      <td>...</td>\n",
       "      <td>...</td>\n",
       "      <td>...</td>\n",
       "      <td>...</td>\n",
       "      <td>...</td>\n",
       "      <td>...</td>\n",
       "    </tr>\n",
       "    <tr>\n",
       "      <th>842</th>\n",
       "      <td>1 Series</td>\n",
       "      <td>2017</td>\n",
       "      <td>13500</td>\n",
       "      <td>Manual</td>\n",
       "      <td>16423</td>\n",
       "      <td>Diesel</td>\n",
       "      <td>150</td>\n",
       "      <td>72.4</td>\n",
       "      <td>1.5</td>\n",
       "    </tr>\n",
       "    <tr>\n",
       "      <th>843</th>\n",
       "      <td>1 Series</td>\n",
       "      <td>2016</td>\n",
       "      <td>8800</td>\n",
       "      <td>Manual</td>\n",
       "      <td>51002</td>\n",
       "      <td>Diesel</td>\n",
       "      <td>0</td>\n",
       "      <td>83.1</td>\n",
       "      <td>1.5</td>\n",
       "    </tr>\n",
       "    <tr>\n",
       "      <th>844</th>\n",
       "      <td>1 Series</td>\n",
       "      <td>2015</td>\n",
       "      <td>16314</td>\n",
       "      <td>Manual</td>\n",
       "      <td>17846</td>\n",
       "      <td>Petrol</td>\n",
       "      <td>300</td>\n",
       "      <td>35.3</td>\n",
       "      <td>3.0</td>\n",
       "    </tr>\n",
       "    <tr>\n",
       "      <th>845</th>\n",
       "      <td>5 Series</td>\n",
       "      <td>2014</td>\n",
       "      <td>15495</td>\n",
       "      <td>Semi-Auto</td>\n",
       "      <td>51565</td>\n",
       "      <td>Diesel</td>\n",
       "      <td>160</td>\n",
       "      <td>51.4</td>\n",
       "      <td>2.0</td>\n",
       "    </tr>\n",
       "    <tr>\n",
       "      <th>846</th>\n",
       "      <td>X5</td>\n",
       "      <td>2019</td>\n",
       "      <td>52500</td>\n",
       "      <td>Semi-Auto</td>\n",
       "      <td>5597</td>\n",
       "      <td>Diesel</td>\n",
       "      <td>145</td>\n",
       "      <td>37.7</td>\n",
       "      <td>3.0</td>\n",
       "    </tr>\n",
       "  </tbody>\n",
       "</table>\n",
       "<p>847 rows × 9 columns</p>\n",
       "</div>"
      ],
      "text/plain": [
       "        model  year  price       type  distance    fuel  tax  \\\n",
       "0    5 Series  2014  11200  Automatic     67068  Diesel  125   \n",
       "1          X1  2017  18500  Semi-Auto     12160  Diesel  145   \n",
       "2    3 Series  2017  18300  Semi-Auto     20000  Diesel  150   \n",
       "3    1 Series  2019  29398  Semi-Auto      9983  Petrol  145   \n",
       "4    3 Series  2018  22998  Semi-Auto     16360  Diesel  145   \n",
       "..        ...   ...    ...        ...       ...     ...  ...   \n",
       "842  1 Series  2017  13500     Manual     16423  Diesel  150   \n",
       "843  1 Series  2016   8800     Manual     51002  Diesel    0   \n",
       "844  1 Series  2015  16314     Manual     17846  Petrol  300   \n",
       "845  5 Series  2014  15495  Semi-Auto     51565  Diesel  160   \n",
       "846        X5  2019  52500  Semi-Auto      5597  Diesel  145   \n",
       "\n",
       "     miles per galoon  size  \n",
       "0                57.6   2.0  \n",
       "1                65.7   2.0  \n",
       "2                62.8   2.0  \n",
       "3                39.8   3.0  \n",
       "4                57.7   2.0  \n",
       "..                ...   ...  \n",
       "842              72.4   1.5  \n",
       "843              83.1   1.5  \n",
       "844              35.3   3.0  \n",
       "845              51.4   2.0  \n",
       "846              37.7   3.0  \n",
       "\n",
       "[847 rows x 9 columns]"
      ]
     },
     "execution_count": 8,
     "metadata": {},
     "output_type": "execute_result"
    }
   ],
   "source": [
    "df = pd.read_excel('bmw.xlsx', sheet_name='bmw')\n",
    "df"
   ]
  },
  {
   "cell_type": "code",
   "execution_count": 9,
   "id": "362e2eae",
   "metadata": {},
   "outputs": [
    {
     "name": "stdout",
     "output_type": "stream",
     "text": [
      "<class 'pandas.core.frame.DataFrame'>\n",
      "RangeIndex: 847 entries, 0 to 846\n",
      "Data columns (total 9 columns):\n",
      " #   Column            Non-Null Count  Dtype  \n",
      "---  ------            --------------  -----  \n",
      " 0   model             847 non-null    object \n",
      " 1   year              847 non-null    int64  \n",
      " 2   price             847 non-null    int64  \n",
      " 3   type              847 non-null    object \n",
      " 4   distance          847 non-null    int64  \n",
      " 5   fuel              847 non-null    object \n",
      " 6   tax               847 non-null    int64  \n",
      " 7   miles per galoon  847 non-null    float64\n",
      " 8   size              847 non-null    float64\n",
      "dtypes: float64(2), int64(4), object(3)\n",
      "memory usage: 59.7+ KB\n"
     ]
    }
   ],
   "source": [
    "df.info()"
   ]
  },
  {
   "cell_type": "markdown",
   "id": "09562508",
   "metadata": {},
   "source": [
    "В датасет нет пропущенных знaчений"
   ]
  },
  {
   "cell_type": "code",
   "execution_count": 10,
   "id": "f0ceb2dd",
   "metadata": {},
   "outputs": [
    {
     "data": {
      "text/plain": [
       "model               0\n",
       "year                0\n",
       "price               0\n",
       "type                0\n",
       "distance            0\n",
       "fuel                0\n",
       "tax                 0\n",
       "miles per galoon    0\n",
       "size                0\n",
       "dtype: int64"
      ]
     },
     "execution_count": 10,
     "metadata": {},
     "output_type": "execute_result"
    }
   ],
   "source": [
    "df.isnull().sum()"
   ]
  },
  {
   "cell_type": "code",
   "execution_count": 11,
   "id": "068600a8",
   "metadata": {},
   "outputs": [
    {
     "data": {
      "text/plain": [
       "model                object\n",
       "year                  int64\n",
       "price                 int64\n",
       "type                 object\n",
       "distance              int64\n",
       "fuel                 object\n",
       "tax                   int64\n",
       "miles per galoon    float64\n",
       "size                float64\n",
       "dtype: object"
      ]
     },
     "execution_count": 11,
     "metadata": {},
     "output_type": "execute_result"
    }
   ],
   "source": [
    "df.dtypes"
   ]
  },
  {
   "cell_type": "code",
   "execution_count": 12,
   "id": "d8302cbd",
   "metadata": {},
   "outputs": [
    {
     "data": {
      "text/html": [
       "<div>\n",
       "<style scoped>\n",
       "    .dataframe tbody tr th:only-of-type {\n",
       "        vertical-align: middle;\n",
       "    }\n",
       "\n",
       "    .dataframe tbody tr th {\n",
       "        vertical-align: top;\n",
       "    }\n",
       "\n",
       "    .dataframe thead th {\n",
       "        text-align: right;\n",
       "    }\n",
       "</style>\n",
       "<table border=\"1\" class=\"dataframe\">\n",
       "  <thead>\n",
       "    <tr style=\"text-align: right;\">\n",
       "      <th></th>\n",
       "      <th>year</th>\n",
       "      <th>price</th>\n",
       "      <th>distance</th>\n",
       "      <th>tax</th>\n",
       "      <th>miles per galoon</th>\n",
       "      <th>size</th>\n",
       "    </tr>\n",
       "  </thead>\n",
       "  <tbody>\n",
       "    <tr>\n",
       "      <th>count</th>\n",
       "      <td>847.000000</td>\n",
       "      <td>847.000000</td>\n",
       "      <td>847.000000</td>\n",
       "      <td>847.000000</td>\n",
       "      <td>847.000000</td>\n",
       "      <td>847.000000</td>\n",
       "    </tr>\n",
       "    <tr>\n",
       "      <th>mean</th>\n",
       "      <td>2017.055490</td>\n",
       "      <td>21384.710744</td>\n",
       "      <td>24738.099174</td>\n",
       "      <td>129.085006</td>\n",
       "      <td>56.356789</td>\n",
       "      <td>2.170956</td>\n",
       "    </tr>\n",
       "    <tr>\n",
       "      <th>std</th>\n",
       "      <td>1.707442</td>\n",
       "      <td>9754.114902</td>\n",
       "      <td>19964.972481</td>\n",
       "      <td>55.414470</td>\n",
       "      <td>15.909320</td>\n",
       "      <td>0.509050</td>\n",
       "    </tr>\n",
       "    <tr>\n",
       "      <th>min</th>\n",
       "      <td>2013.000000</td>\n",
       "      <td>6998.000000</td>\n",
       "      <td>10.000000</td>\n",
       "      <td>0.000000</td>\n",
       "      <td>31.400000</td>\n",
       "      <td>1.500000</td>\n",
       "    </tr>\n",
       "    <tr>\n",
       "      <th>25%</th>\n",
       "      <td>2016.000000</td>\n",
       "      <td>14991.000000</td>\n",
       "      <td>9007.000000</td>\n",
       "      <td>125.000000</td>\n",
       "      <td>48.700000</td>\n",
       "      <td>2.000000</td>\n",
       "    </tr>\n",
       "    <tr>\n",
       "      <th>50%</th>\n",
       "      <td>2017.000000</td>\n",
       "      <td>19000.000000</td>\n",
       "      <td>20001.000000</td>\n",
       "      <td>145.000000</td>\n",
       "      <td>54.300000</td>\n",
       "      <td>2.000000</td>\n",
       "    </tr>\n",
       "    <tr>\n",
       "      <th>75%</th>\n",
       "      <td>2019.000000</td>\n",
       "      <td>24944.000000</td>\n",
       "      <td>35618.000000</td>\n",
       "      <td>150.000000</td>\n",
       "      <td>62.800000</td>\n",
       "      <td>2.000000</td>\n",
       "    </tr>\n",
       "    <tr>\n",
       "      <th>max</th>\n",
       "      <td>2020.000000</td>\n",
       "      <td>74990.000000</td>\n",
       "      <td>96213.000000</td>\n",
       "      <td>305.000000</td>\n",
       "      <td>156.900000</td>\n",
       "      <td>3.000000</td>\n",
       "    </tr>\n",
       "  </tbody>\n",
       "</table>\n",
       "</div>"
      ],
      "text/plain": [
       "              year         price      distance         tax  miles per galoon  \\\n",
       "count   847.000000    847.000000    847.000000  847.000000        847.000000   \n",
       "mean   2017.055490  21384.710744  24738.099174  129.085006         56.356789   \n",
       "std       1.707442   9754.114902  19964.972481   55.414470         15.909320   \n",
       "min    2013.000000   6998.000000     10.000000    0.000000         31.400000   \n",
       "25%    2016.000000  14991.000000   9007.000000  125.000000         48.700000   \n",
       "50%    2017.000000  19000.000000  20001.000000  145.000000         54.300000   \n",
       "75%    2019.000000  24944.000000  35618.000000  150.000000         62.800000   \n",
       "max    2020.000000  74990.000000  96213.000000  305.000000        156.900000   \n",
       "\n",
       "             size  \n",
       "count  847.000000  \n",
       "mean     2.170956  \n",
       "std      0.509050  \n",
       "min      1.500000  \n",
       "25%      2.000000  \n",
       "50%      2.000000  \n",
       "75%      2.000000  \n",
       "max      3.000000  "
      ]
     },
     "execution_count": 12,
     "metadata": {},
     "output_type": "execute_result"
    }
   ],
   "source": [
    "df.describe()"
   ]
  },
  {
   "cell_type": "code",
   "execution_count": 13,
   "id": "a97b9b90",
   "metadata": {},
   "outputs": [
    {
     "data": {
      "text/plain": [
       "Index(['model', 'year', 'price', 'type', 'distance', 'fuel', 'tax',\n",
       "       'miles per galoon', 'size'],\n",
       "      dtype='object')"
      ]
     },
     "execution_count": 13,
     "metadata": {},
     "output_type": "execute_result"
    }
   ],
   "source": [
    "df.columns"
   ]
  },
  {
   "cell_type": "code",
   "execution_count": 14,
   "id": "c5ab5fef",
   "metadata": {},
   "outputs": [],
   "source": [
    "df.columns = ['model', 'year', 'price', 'type', 'distance', 'fuel', 'tax',\n",
    "       'miles per galoon', 'size']"
   ]
  },
  {
   "cell_type": "code",
   "execution_count": 15,
   "id": "e563155e",
   "metadata": {},
   "outputs": [],
   "source": [
    "def outliers(df):\n",
    "    num_var = list(df._get_numeric_data().columns)\n",
    "    for col_names in num_var:\n",
    "        df[col_names] = df[col_names].apply(lambda y: df[col_names].mean()-3*df[col_names].std()\n",
    "                            if y < df[col_names].mean()-3*df[col_names].std() else y)\n",
    "        df[col_names] = df[col_names].apply(lambda y: df[col_names].mean()+3*df[col_names].std()\n",
    "                            if y > df[col_names].mean()+3*df[col_names].std() else y)\n",
    "    return(df)"
   ]
  },
  {
   "cell_type": "code",
   "execution_count": 16,
   "id": "1b87801a",
   "metadata": {},
   "outputs": [
    {
     "data": {
      "text/html": [
       "<div>\n",
       "<style scoped>\n",
       "    .dataframe tbody tr th:only-of-type {\n",
       "        vertical-align: middle;\n",
       "    }\n",
       "\n",
       "    .dataframe tbody tr th {\n",
       "        vertical-align: top;\n",
       "    }\n",
       "\n",
       "    .dataframe thead th {\n",
       "        text-align: right;\n",
       "    }\n",
       "</style>\n",
       "<table border=\"1\" class=\"dataframe\">\n",
       "  <thead>\n",
       "    <tr style=\"text-align: right;\">\n",
       "      <th></th>\n",
       "      <th>year</th>\n",
       "      <th>price</th>\n",
       "      <th>distance</th>\n",
       "      <th>tax</th>\n",
       "      <th>miles per galoon</th>\n",
       "      <th>size</th>\n",
       "    </tr>\n",
       "  </thead>\n",
       "  <tbody>\n",
       "    <tr>\n",
       "      <th>count</th>\n",
       "      <td>847.000000</td>\n",
       "      <td>847.000000</td>\n",
       "      <td>847.000000</td>\n",
       "      <td>847.000000</td>\n",
       "      <td>847.000000</td>\n",
       "      <td>847.000000</td>\n",
       "    </tr>\n",
       "    <tr>\n",
       "      <th>mean</th>\n",
       "      <td>2017.055490</td>\n",
       "      <td>21202.038959</td>\n",
       "      <td>24695.637662</td>\n",
       "      <td>129.029464</td>\n",
       "      <td>55.626494</td>\n",
       "      <td>2.170956</td>\n",
       "    </tr>\n",
       "    <tr>\n",
       "      <th>std</th>\n",
       "      <td>1.707442</td>\n",
       "      <td>9043.637895</td>\n",
       "      <td>19827.618230</td>\n",
       "      <td>55.244498</td>\n",
       "      <td>12.438446</td>\n",
       "      <td>0.509050</td>\n",
       "    </tr>\n",
       "    <tr>\n",
       "      <th>min</th>\n",
       "      <td>2013.000000</td>\n",
       "      <td>6998.000000</td>\n",
       "      <td>10.000000</td>\n",
       "      <td>0.000000</td>\n",
       "      <td>31.400000</td>\n",
       "      <td>1.500000</td>\n",
       "    </tr>\n",
       "    <tr>\n",
       "      <th>25%</th>\n",
       "      <td>2016.000000</td>\n",
       "      <td>14991.000000</td>\n",
       "      <td>9007.000000</td>\n",
       "      <td>125.000000</td>\n",
       "      <td>48.700000</td>\n",
       "      <td>2.000000</td>\n",
       "    </tr>\n",
       "    <tr>\n",
       "      <th>50%</th>\n",
       "      <td>2017.000000</td>\n",
       "      <td>19000.000000</td>\n",
       "      <td>20001.000000</td>\n",
       "      <td>145.000000</td>\n",
       "      <td>54.300000</td>\n",
       "      <td>2.000000</td>\n",
       "    </tr>\n",
       "    <tr>\n",
       "      <th>75%</th>\n",
       "      <td>2019.000000</td>\n",
       "      <td>24944.000000</td>\n",
       "      <td>35618.000000</td>\n",
       "      <td>150.000000</td>\n",
       "      <td>62.800000</td>\n",
       "      <td>2.000000</td>\n",
       "    </tr>\n",
       "    <tr>\n",
       "      <th>max</th>\n",
       "      <td>2020.000000</td>\n",
       "      <td>50647.055451</td>\n",
       "      <td>84633.016616</td>\n",
       "      <td>295.328415</td>\n",
       "      <td>104.084750</td>\n",
       "      <td>3.000000</td>\n",
       "    </tr>\n",
       "  </tbody>\n",
       "</table>\n",
       "</div>"
      ],
      "text/plain": [
       "              year         price      distance         tax  miles per galoon  \\\n",
       "count   847.000000    847.000000    847.000000  847.000000        847.000000   \n",
       "mean   2017.055490  21202.038959  24695.637662  129.029464         55.626494   \n",
       "std       1.707442   9043.637895  19827.618230   55.244498         12.438446   \n",
       "min    2013.000000   6998.000000     10.000000    0.000000         31.400000   \n",
       "25%    2016.000000  14991.000000   9007.000000  125.000000         48.700000   \n",
       "50%    2017.000000  19000.000000  20001.000000  145.000000         54.300000   \n",
       "75%    2019.000000  24944.000000  35618.000000  150.000000         62.800000   \n",
       "max    2020.000000  50647.055451  84633.016616  295.328415        104.084750   \n",
       "\n",
       "             size  \n",
       "count  847.000000  \n",
       "mean     2.170956  \n",
       "std      0.509050  \n",
       "min      1.500000  \n",
       "25%      2.000000  \n",
       "50%      2.000000  \n",
       "75%      2.000000  \n",
       "max      3.000000  "
      ]
     },
     "execution_count": 16,
     "metadata": {},
     "output_type": "execute_result"
    }
   ],
   "source": [
    "df = outliers(df)\n",
    "df.describe()"
   ]
  },
  {
   "cell_type": "code",
   "execution_count": 17,
   "id": "98d981d6",
   "metadata": {},
   "outputs": [
    {
     "data": {
      "text/plain": [
       "(847, 9)"
      ]
     },
     "execution_count": 17,
     "metadata": {},
     "output_type": "execute_result"
    }
   ],
   "source": [
    "df.shape"
   ]
  },
  {
   "cell_type": "code",
   "execution_count": 18,
   "id": "5950c6ac",
   "metadata": {},
   "outputs": [
    {
     "data": {
      "text/plain": [
       "3"
      ]
     },
     "execution_count": 18,
     "metadata": {},
     "output_type": "execute_result"
    }
   ],
   "source": [
    "df['type'].nunique()"
   ]
  },
  {
   "cell_type": "code",
   "execution_count": 19,
   "id": "eeebf95a",
   "metadata": {},
   "outputs": [
    {
     "name": "stdout",
     "output_type": "stream",
     "text": [
      "['Automatic' 'Semi-Auto' 'Manual']\n",
      "['Automatic' 'Semi-Auto' 'Manual']\n",
      "['Automatic' 'Semi-Auto' 'Manual']\n",
      "['Automatic' 'Semi-Auto' 'Manual']\n",
      "['Automatic' 'Semi-Auto' 'Manual']\n",
      "['Automatic' 'Semi-Auto' 'Manual']\n",
      "['Automatic' 'Semi-Auto' 'Manual']\n",
      "['Automatic' 'Semi-Auto' 'Manual']\n",
      "['Automatic' 'Semi-Auto' 'Manual']\n"
     ]
    }
   ],
   "source": [
    "for col in df:\n",
    "    print(df['type'].unique())"
   ]
  },
  {
   "cell_type": "code",
   "execution_count": 20,
   "id": "2a52b676",
   "metadata": {},
   "outputs": [
    {
     "data": {
      "text/html": [
       "<div>\n",
       "<style scoped>\n",
       "    .dataframe tbody tr th:only-of-type {\n",
       "        vertical-align: middle;\n",
       "    }\n",
       "\n",
       "    .dataframe tbody tr th {\n",
       "        vertical-align: top;\n",
       "    }\n",
       "\n",
       "    .dataframe thead th {\n",
       "        text-align: right;\n",
       "    }\n",
       "</style>\n",
       "<table border=\"1\" class=\"dataframe\">\n",
       "  <thead>\n",
       "    <tr style=\"text-align: right;\">\n",
       "      <th></th>\n",
       "      <th>model</th>\n",
       "      <th>year</th>\n",
       "      <th>price</th>\n",
       "      <th>type</th>\n",
       "      <th>distance</th>\n",
       "      <th>fuel</th>\n",
       "      <th>tax</th>\n",
       "      <th>miles per galoon</th>\n",
       "      <th>size</th>\n",
       "    </tr>\n",
       "  </thead>\n",
       "  <tbody>\n",
       "    <tr>\n",
       "      <th>0</th>\n",
       "      <td>5 Series</td>\n",
       "      <td>2014</td>\n",
       "      <td>11200.0</td>\n",
       "      <td>0</td>\n",
       "      <td>67068.0</td>\n",
       "      <td>Diesel</td>\n",
       "      <td>125.0</td>\n",
       "      <td>57.6</td>\n",
       "      <td>2.0</td>\n",
       "    </tr>\n",
       "    <tr>\n",
       "      <th>1</th>\n",
       "      <td>X1</td>\n",
       "      <td>2017</td>\n",
       "      <td>18500.0</td>\n",
       "      <td>2</td>\n",
       "      <td>12160.0</td>\n",
       "      <td>Diesel</td>\n",
       "      <td>145.0</td>\n",
       "      <td>65.7</td>\n",
       "      <td>2.0</td>\n",
       "    </tr>\n",
       "    <tr>\n",
       "      <th>2</th>\n",
       "      <td>3 Series</td>\n",
       "      <td>2017</td>\n",
       "      <td>18300.0</td>\n",
       "      <td>2</td>\n",
       "      <td>20000.0</td>\n",
       "      <td>Diesel</td>\n",
       "      <td>150.0</td>\n",
       "      <td>62.8</td>\n",
       "      <td>2.0</td>\n",
       "    </tr>\n",
       "    <tr>\n",
       "      <th>3</th>\n",
       "      <td>1 Series</td>\n",
       "      <td>2019</td>\n",
       "      <td>29398.0</td>\n",
       "      <td>2</td>\n",
       "      <td>9983.0</td>\n",
       "      <td>Petrol</td>\n",
       "      <td>145.0</td>\n",
       "      <td>39.8</td>\n",
       "      <td>3.0</td>\n",
       "    </tr>\n",
       "    <tr>\n",
       "      <th>4</th>\n",
       "      <td>3 Series</td>\n",
       "      <td>2018</td>\n",
       "      <td>22998.0</td>\n",
       "      <td>2</td>\n",
       "      <td>16360.0</td>\n",
       "      <td>Diesel</td>\n",
       "      <td>145.0</td>\n",
       "      <td>57.7</td>\n",
       "      <td>2.0</td>\n",
       "    </tr>\n",
       "  </tbody>\n",
       "</table>\n",
       "</div>"
      ],
      "text/plain": [
       "      model  year    price  type  distance    fuel    tax  miles per galoon  \\\n",
       "0  5 Series  2014  11200.0     0   67068.0  Diesel  125.0              57.6   \n",
       "1        X1  2017  18500.0     2   12160.0  Diesel  145.0              65.7   \n",
       "2  3 Series  2017  18300.0     2   20000.0  Diesel  150.0              62.8   \n",
       "3  1 Series  2019  29398.0     2    9983.0  Petrol  145.0              39.8   \n",
       "4  3 Series  2018  22998.0     2   16360.0  Diesel  145.0              57.7   \n",
       "\n",
       "   size  \n",
       "0   2.0  \n",
       "1   2.0  \n",
       "2   2.0  \n",
       "3   3.0  \n",
       "4   2.0  "
      ]
     },
     "execution_count": 20,
     "metadata": {},
     "output_type": "execute_result"
    }
   ],
   "source": [
    "#encoding transmission\n",
    "from sklearn import preprocessing\n",
    "df['type'] = preprocessing.LabelEncoder().fit_transform(df['type'])\n",
    "df.head(5)"
   ]
  },
  {
   "cell_type": "markdown",
   "id": "d10ac635",
   "metadata": {},
   "source": [
    "К числовому формату привели фактор type"
   ]
  },
  {
   "cell_type": "code",
   "execution_count": 21,
   "id": "7296002b",
   "metadata": {},
   "outputs": [
    {
     "data": {
      "text/plain": [
       "4"
      ]
     },
     "execution_count": 21,
     "metadata": {},
     "output_type": "execute_result"
    }
   ],
   "source": [
    "df['fuel'].nunique()"
   ]
  },
  {
   "cell_type": "code",
   "execution_count": 22,
   "id": "090da6c5",
   "metadata": {},
   "outputs": [
    {
     "name": "stdout",
     "output_type": "stream",
     "text": [
      "['Diesel' 'Petrol' 'Hybrid' 'Other']\n",
      "['Diesel' 'Petrol' 'Hybrid' 'Other']\n",
      "['Diesel' 'Petrol' 'Hybrid' 'Other']\n",
      "['Diesel' 'Petrol' 'Hybrid' 'Other']\n",
      "['Diesel' 'Petrol' 'Hybrid' 'Other']\n",
      "['Diesel' 'Petrol' 'Hybrid' 'Other']\n",
      "['Diesel' 'Petrol' 'Hybrid' 'Other']\n",
      "['Diesel' 'Petrol' 'Hybrid' 'Other']\n",
      "['Diesel' 'Petrol' 'Hybrid' 'Other']\n"
     ]
    }
   ],
   "source": [
    "for col in df:\n",
    "    print(df['fuel'].unique())"
   ]
  },
  {
   "cell_type": "code",
   "execution_count": 23,
   "id": "7769c4c2",
   "metadata": {},
   "outputs": [
    {
     "data": {
      "text/html": [
       "<div>\n",
       "<style scoped>\n",
       "    .dataframe tbody tr th:only-of-type {\n",
       "        vertical-align: middle;\n",
       "    }\n",
       "\n",
       "    .dataframe tbody tr th {\n",
       "        vertical-align: top;\n",
       "    }\n",
       "\n",
       "    .dataframe thead th {\n",
       "        text-align: right;\n",
       "    }\n",
       "</style>\n",
       "<table border=\"1\" class=\"dataframe\">\n",
       "  <thead>\n",
       "    <tr style=\"text-align: right;\">\n",
       "      <th></th>\n",
       "      <th>model</th>\n",
       "      <th>year</th>\n",
       "      <th>price</th>\n",
       "      <th>type</th>\n",
       "      <th>distance</th>\n",
       "      <th>fuel</th>\n",
       "      <th>tax</th>\n",
       "      <th>miles per galoon</th>\n",
       "      <th>size</th>\n",
       "    </tr>\n",
       "  </thead>\n",
       "  <tbody>\n",
       "    <tr>\n",
       "      <th>0</th>\n",
       "      <td>5 Series</td>\n",
       "      <td>2014</td>\n",
       "      <td>11200.0</td>\n",
       "      <td>0</td>\n",
       "      <td>67068.0</td>\n",
       "      <td>0</td>\n",
       "      <td>125.0</td>\n",
       "      <td>57.6</td>\n",
       "      <td>2.0</td>\n",
       "    </tr>\n",
       "    <tr>\n",
       "      <th>1</th>\n",
       "      <td>X1</td>\n",
       "      <td>2017</td>\n",
       "      <td>18500.0</td>\n",
       "      <td>2</td>\n",
       "      <td>12160.0</td>\n",
       "      <td>0</td>\n",
       "      <td>145.0</td>\n",
       "      <td>65.7</td>\n",
       "      <td>2.0</td>\n",
       "    </tr>\n",
       "    <tr>\n",
       "      <th>2</th>\n",
       "      <td>3 Series</td>\n",
       "      <td>2017</td>\n",
       "      <td>18300.0</td>\n",
       "      <td>2</td>\n",
       "      <td>20000.0</td>\n",
       "      <td>0</td>\n",
       "      <td>150.0</td>\n",
       "      <td>62.8</td>\n",
       "      <td>2.0</td>\n",
       "    </tr>\n",
       "    <tr>\n",
       "      <th>3</th>\n",
       "      <td>1 Series</td>\n",
       "      <td>2019</td>\n",
       "      <td>29398.0</td>\n",
       "      <td>2</td>\n",
       "      <td>9983.0</td>\n",
       "      <td>3</td>\n",
       "      <td>145.0</td>\n",
       "      <td>39.8</td>\n",
       "      <td>3.0</td>\n",
       "    </tr>\n",
       "    <tr>\n",
       "      <th>4</th>\n",
       "      <td>3 Series</td>\n",
       "      <td>2018</td>\n",
       "      <td>22998.0</td>\n",
       "      <td>2</td>\n",
       "      <td>16360.0</td>\n",
       "      <td>0</td>\n",
       "      <td>145.0</td>\n",
       "      <td>57.7</td>\n",
       "      <td>2.0</td>\n",
       "    </tr>\n",
       "  </tbody>\n",
       "</table>\n",
       "</div>"
      ],
      "text/plain": [
       "      model  year    price  type  distance  fuel    tax  miles per galoon  \\\n",
       "0  5 Series  2014  11200.0     0   67068.0     0  125.0              57.6   \n",
       "1        X1  2017  18500.0     2   12160.0     0  145.0              65.7   \n",
       "2  3 Series  2017  18300.0     2   20000.0     0  150.0              62.8   \n",
       "3  1 Series  2019  29398.0     2    9983.0     3  145.0              39.8   \n",
       "4  3 Series  2018  22998.0     2   16360.0     0  145.0              57.7   \n",
       "\n",
       "   size  \n",
       "0   2.0  \n",
       "1   2.0  \n",
       "2   2.0  \n",
       "3   3.0  \n",
       "4   2.0  "
      ]
     },
     "execution_count": 23,
     "metadata": {},
     "output_type": "execute_result"
    }
   ],
   "source": [
    "#encoding fuel\n",
    "from sklearn import preprocessing\n",
    "df['fuel'] = preprocessing.LabelEncoder().fit_transform(df['fuel'])\n",
    "df.head(5)"
   ]
  },
  {
   "cell_type": "markdown",
   "id": "e6755932",
   "metadata": {},
   "source": [
    "К числовому формату привели фактор fuel"
   ]
  },
  {
   "cell_type": "code",
   "execution_count": 24,
   "id": "35f73caf",
   "metadata": {},
   "outputs": [
    {
     "data": {
      "text/plain": [
       "20"
      ]
     },
     "execution_count": 24,
     "metadata": {},
     "output_type": "execute_result"
    }
   ],
   "source": [
    "df['model'].nunique()"
   ]
  },
  {
   "cell_type": "code",
   "execution_count": 25,
   "id": "98efb1cd",
   "metadata": {},
   "outputs": [
    {
     "name": "stdout",
     "output_type": "stream",
     "text": [
      "['5 Series' 'X1' '3 Series' '1 Series' '2 Series' '4 Series' 'X4' 'X3'\n",
      " 'X2' '6 Series' 'X5' '7 Series' '8 Series' 'Z4' 'X6' 'X7' 'M4' 'M2' 'M3'\n",
      " 'i8']\n",
      "['5 Series' 'X1' '3 Series' '1 Series' '2 Series' '4 Series' 'X4' 'X3'\n",
      " 'X2' '6 Series' 'X5' '7 Series' '8 Series' 'Z4' 'X6' 'X7' 'M4' 'M2' 'M3'\n",
      " 'i8']\n",
      "['5 Series' 'X1' '3 Series' '1 Series' '2 Series' '4 Series' 'X4' 'X3'\n",
      " 'X2' '6 Series' 'X5' '7 Series' '8 Series' 'Z4' 'X6' 'X7' 'M4' 'M2' 'M3'\n",
      " 'i8']\n",
      "['5 Series' 'X1' '3 Series' '1 Series' '2 Series' '4 Series' 'X4' 'X3'\n",
      " 'X2' '6 Series' 'X5' '7 Series' '8 Series' 'Z4' 'X6' 'X7' 'M4' 'M2' 'M3'\n",
      " 'i8']\n",
      "['5 Series' 'X1' '3 Series' '1 Series' '2 Series' '4 Series' 'X4' 'X3'\n",
      " 'X2' '6 Series' 'X5' '7 Series' '8 Series' 'Z4' 'X6' 'X7' 'M4' 'M2' 'M3'\n",
      " 'i8']\n",
      "['5 Series' 'X1' '3 Series' '1 Series' '2 Series' '4 Series' 'X4' 'X3'\n",
      " 'X2' '6 Series' 'X5' '7 Series' '8 Series' 'Z4' 'X6' 'X7' 'M4' 'M2' 'M3'\n",
      " 'i8']\n",
      "['5 Series' 'X1' '3 Series' '1 Series' '2 Series' '4 Series' 'X4' 'X3'\n",
      " 'X2' '6 Series' 'X5' '7 Series' '8 Series' 'Z4' 'X6' 'X7' 'M4' 'M2' 'M3'\n",
      " 'i8']\n",
      "['5 Series' 'X1' '3 Series' '1 Series' '2 Series' '4 Series' 'X4' 'X3'\n",
      " 'X2' '6 Series' 'X5' '7 Series' '8 Series' 'Z4' 'X6' 'X7' 'M4' 'M2' 'M3'\n",
      " 'i8']\n",
      "['5 Series' 'X1' '3 Series' '1 Series' '2 Series' '4 Series' 'X4' 'X3'\n",
      " 'X2' '6 Series' 'X5' '7 Series' '8 Series' 'Z4' 'X6' 'X7' 'M4' 'M2' 'M3'\n",
      " 'i8']\n"
     ]
    }
   ],
   "source": [
    "for col in df:\n",
    "    print(df['model'].unique())"
   ]
  },
  {
   "cell_type": "code",
   "execution_count": 26,
   "id": "6aef37c7",
   "metadata": {},
   "outputs": [
    {
     "data": {
      "text/html": [
       "<div>\n",
       "<style scoped>\n",
       "    .dataframe tbody tr th:only-of-type {\n",
       "        vertical-align: middle;\n",
       "    }\n",
       "\n",
       "    .dataframe tbody tr th {\n",
       "        vertical-align: top;\n",
       "    }\n",
       "\n",
       "    .dataframe thead th {\n",
       "        text-align: right;\n",
       "    }\n",
       "</style>\n",
       "<table border=\"1\" class=\"dataframe\">\n",
       "  <thead>\n",
       "    <tr style=\"text-align: right;\">\n",
       "      <th></th>\n",
       "      <th>model</th>\n",
       "      <th>year</th>\n",
       "      <th>price</th>\n",
       "      <th>type</th>\n",
       "      <th>distance</th>\n",
       "      <th>fuel</th>\n",
       "      <th>tax</th>\n",
       "      <th>miles per galoon</th>\n",
       "      <th>size</th>\n",
       "    </tr>\n",
       "  </thead>\n",
       "  <tbody>\n",
       "    <tr>\n",
       "      <th>0</th>\n",
       "      <td>4</td>\n",
       "      <td>2014</td>\n",
       "      <td>11200.0</td>\n",
       "      <td>0</td>\n",
       "      <td>67068.0</td>\n",
       "      <td>0</td>\n",
       "      <td>125.0</td>\n",
       "      <td>57.6</td>\n",
       "      <td>2.0</td>\n",
       "    </tr>\n",
       "    <tr>\n",
       "      <th>1</th>\n",
       "      <td>11</td>\n",
       "      <td>2017</td>\n",
       "      <td>18500.0</td>\n",
       "      <td>2</td>\n",
       "      <td>12160.0</td>\n",
       "      <td>0</td>\n",
       "      <td>145.0</td>\n",
       "      <td>65.7</td>\n",
       "      <td>2.0</td>\n",
       "    </tr>\n",
       "    <tr>\n",
       "      <th>2</th>\n",
       "      <td>2</td>\n",
       "      <td>2017</td>\n",
       "      <td>18300.0</td>\n",
       "      <td>2</td>\n",
       "      <td>20000.0</td>\n",
       "      <td>0</td>\n",
       "      <td>150.0</td>\n",
       "      <td>62.8</td>\n",
       "      <td>2.0</td>\n",
       "    </tr>\n",
       "    <tr>\n",
       "      <th>3</th>\n",
       "      <td>0</td>\n",
       "      <td>2019</td>\n",
       "      <td>29398.0</td>\n",
       "      <td>2</td>\n",
       "      <td>9983.0</td>\n",
       "      <td>3</td>\n",
       "      <td>145.0</td>\n",
       "      <td>39.8</td>\n",
       "      <td>3.0</td>\n",
       "    </tr>\n",
       "    <tr>\n",
       "      <th>4</th>\n",
       "      <td>2</td>\n",
       "      <td>2018</td>\n",
       "      <td>22998.0</td>\n",
       "      <td>2</td>\n",
       "      <td>16360.0</td>\n",
       "      <td>0</td>\n",
       "      <td>145.0</td>\n",
       "      <td>57.7</td>\n",
       "      <td>2.0</td>\n",
       "    </tr>\n",
       "    <tr>\n",
       "      <th>5</th>\n",
       "      <td>1</td>\n",
       "      <td>2016</td>\n",
       "      <td>10600.0</td>\n",
       "      <td>1</td>\n",
       "      <td>24313.0</td>\n",
       "      <td>0</td>\n",
       "      <td>0.0</td>\n",
       "      <td>74.3</td>\n",
       "      <td>1.5</td>\n",
       "    </tr>\n",
       "    <tr>\n",
       "      <th>6</th>\n",
       "      <td>3</td>\n",
       "      <td>2020</td>\n",
       "      <td>29500.0</td>\n",
       "      <td>2</td>\n",
       "      <td>17.0</td>\n",
       "      <td>0</td>\n",
       "      <td>145.0</td>\n",
       "      <td>60.1</td>\n",
       "      <td>2.0</td>\n",
       "    </tr>\n",
       "    <tr>\n",
       "      <th>7</th>\n",
       "      <td>4</td>\n",
       "      <td>2019</td>\n",
       "      <td>30000.0</td>\n",
       "      <td>0</td>\n",
       "      <td>10654.0</td>\n",
       "      <td>0</td>\n",
       "      <td>145.0</td>\n",
       "      <td>60.1</td>\n",
       "      <td>2.0</td>\n",
       "    </tr>\n",
       "    <tr>\n",
       "      <th>8</th>\n",
       "      <td>14</td>\n",
       "      <td>2019</td>\n",
       "      <td>33998.0</td>\n",
       "      <td>2</td>\n",
       "      <td>7272.0</td>\n",
       "      <td>0</td>\n",
       "      <td>150.0</td>\n",
       "      <td>42.8</td>\n",
       "      <td>2.0</td>\n",
       "    </tr>\n",
       "    <tr>\n",
       "      <th>9</th>\n",
       "      <td>0</td>\n",
       "      <td>2020</td>\n",
       "      <td>29998.0</td>\n",
       "      <td>2</td>\n",
       "      <td>934.0</td>\n",
       "      <td>0</td>\n",
       "      <td>150.0</td>\n",
       "      <td>48.7</td>\n",
       "      <td>2.0</td>\n",
       "    </tr>\n",
       "  </tbody>\n",
       "</table>\n",
       "</div>"
      ],
      "text/plain": [
       "   model  year    price  type  distance  fuel    tax  miles per galoon  size\n",
       "0      4  2014  11200.0     0   67068.0     0  125.0              57.6   2.0\n",
       "1     11  2017  18500.0     2   12160.0     0  145.0              65.7   2.0\n",
       "2      2  2017  18300.0     2   20000.0     0  150.0              62.8   2.0\n",
       "3      0  2019  29398.0     2    9983.0     3  145.0              39.8   3.0\n",
       "4      2  2018  22998.0     2   16360.0     0  145.0              57.7   2.0\n",
       "5      1  2016  10600.0     1   24313.0     0    0.0              74.3   1.5\n",
       "6      3  2020  29500.0     2      17.0     0  145.0              60.1   2.0\n",
       "7      4  2019  30000.0     0   10654.0     0  145.0              60.1   2.0\n",
       "8     14  2019  33998.0     2    7272.0     0  150.0              42.8   2.0\n",
       "9      0  2020  29998.0     2     934.0     0  150.0              48.7   2.0"
      ]
     },
     "execution_count": 26,
     "metadata": {},
     "output_type": "execute_result"
    }
   ],
   "source": [
    "#encoding body\n",
    "from sklearn import preprocessing\n",
    "df['model'] = preprocessing.LabelEncoder().fit_transform(df['model'])\n",
    "df.head(10)"
   ]
  },
  {
   "cell_type": "markdown",
   "id": "9fa8969e",
   "metadata": {},
   "source": [
    "К числовому формату привели фактор model"
   ]
  },
  {
   "cell_type": "code",
   "execution_count": 27,
   "id": "ed7cd7f4",
   "metadata": {},
   "outputs": [
    {
     "data": {
      "text/plain": [
       "model                 int32\n",
       "year                  int64\n",
       "price               float64\n",
       "type                  int32\n",
       "distance            float64\n",
       "fuel                  int32\n",
       "tax                 float64\n",
       "miles per galoon    float64\n",
       "size                float64\n",
       "dtype: object"
      ]
     },
     "execution_count": 27,
     "metadata": {},
     "output_type": "execute_result"
    }
   ],
   "source": [
    "df.dtypes"
   ]
  },
  {
   "cell_type": "markdown",
   "id": "b0031883",
   "metadata": {},
   "source": [
    "# Визуализация факторов"
   ]
  },
  {
   "cell_type": "code",
   "execution_count": 28,
   "id": "98dfe2ce",
   "metadata": {},
   "outputs": [
    {
     "data": {
      "text/plain": [
       "<AxesSubplot:ylabel='Frequency'>"
      ]
     },
     "execution_count": 28,
     "metadata": {},
     "output_type": "execute_result"
    },
    {
     "data": {
      "image/png": "[encoded data removed]",
      "text/plain": [
       "<Figure size 432x288 with 1 Axes>"
      ]
     },
     "metadata": {
      "needs_background": "light"
     },
     "output_type": "display_data"
    }
   ],
   "source": [
    "df['price'].plot(kind = 'hist')"
   ]
  },
  {
   "cell_type": "markdown",
   "id": "4a786f3d",
   "metadata": {},
   "source": [
    "Для большиства моделей цена варьируется от 12 до 25 тыс. у.е."
   ]
  },
  {
   "cell_type": "code",
   "execution_count": 29,
   "id": "685e0096",
   "metadata": {},
   "outputs": [
    {
     "data": {
      "text/plain": [
       "<AxesSubplot:ylabel='Frequency'>"
      ]
     },
     "execution_count": 29,
     "metadata": {},
     "output_type": "execute_result"
    },
    {
     "data": {
      "image/png": "[encoded data removed]",
      "text/plain": [
       "<Figure size 432x288 with 1 Axes>"
      ]
     },
     "metadata": {
      "needs_background": "light"
     },
     "output_type": "display_data"
    }
   ],
   "source": [
    "df['year'].plot(kind = 'hist')"
   ]
  },
  {
   "cell_type": "markdown",
   "id": "dd1d706a",
   "metadata": {},
   "source": [
    "Большинство моделей 2016,2017 и 2019 года выпуска"
   ]
  },
  {
   "cell_type": "code",
   "execution_count": 30,
   "id": "c8d8d4e4",
   "metadata": {},
   "outputs": [
    {
     "data": {
      "text/plain": [
       "<AxesSubplot:ylabel='Frequency'>"
      ]
     },
     "execution_count": 30,
     "metadata": {},
     "output_type": "execute_result"
    },
    {
     "data": {
      "image/png": "[encoded data removed]",
      "text/plain": [
       "<Figure size 432x288 with 1 Axes>"
      ]
     },
     "metadata": {
      "needs_background": "light"
     },
     "output_type": "display_data"
    }
   ],
   "source": [
    "df['model'].plot(kind = 'hist')"
   ]
  },
  {
   "cell_type": "markdown",
   "id": "5ae960a6",
   "metadata": {},
   "source": [
    "Самая распространенная модель 3 Series, 5 Series, X1"
   ]
  },
  {
   "cell_type": "code",
   "execution_count": 31,
   "id": "e601620c",
   "metadata": {},
   "outputs": [
    {
     "data": {
      "text/plain": [
       "<AxesSubplot:ylabel='Frequency'>"
      ]
     },
     "execution_count": 31,
     "metadata": {},
     "output_type": "execute_result"
    },
    {
     "data": {
      "image/png": "[encoded data removed]",
      "text/plain": [
       "<Figure size 432x288 with 1 Axes>"
      ]
     },
     "metadata": {
      "needs_background": "light"
     },
     "output_type": "display_data"
    }
   ],
   "source": [
    "df['type'].plot(kind = 'hist')"
   ]
  },
  {
   "cell_type": "markdown",
   "id": "b59bdb56",
   "metadata": {},
   "source": [
    "Самая распространенная коробка передач - Manual"
   ]
  },
  {
   "cell_type": "code",
   "execution_count": 32,
   "id": "f02183a0",
   "metadata": {},
   "outputs": [
    {
     "data": {
      "text/plain": [
       "<AxesSubplot:ylabel='Frequency'>"
      ]
     },
     "execution_count": 32,
     "metadata": {},
     "output_type": "execute_result"
    },
    {
     "data": {
      "image/png": "[encoded data removed]",
      "text/plain": [
       "<Figure size 432x288 with 1 Axes>"
      ]
     },
     "metadata": {
      "needs_background": "light"
     },
     "output_type": "display_data"
    }
   ],
   "source": [
    "df['distance'].plot(kind = 'hist')"
   ]
  },
  {
   "cell_type": "markdown",
   "id": "1414a428",
   "metadata": {},
   "source": [
    "Большинство автомобилей имеют пробег до 25 тыс. км"
   ]
  },
  {
   "cell_type": "code",
   "execution_count": 33,
   "id": "fd41d3b4",
   "metadata": {},
   "outputs": [
    {
     "data": {
      "text/plain": [
       "<AxesSubplot:ylabel='Frequency'>"
      ]
     },
     "execution_count": 33,
     "metadata": {},
     "output_type": "execute_result"
    },
    {
     "data": {
      "image/png": "[encoded data removed]",
      "text/plain": [
       "<Figure size 432x288 with 1 Axes>"
      ]
     },
     "metadata": {
      "needs_background": "light"
     },
     "output_type": "display_data"
    }
   ],
   "source": [
    "df['tax'].plot(kind = 'hist')"
   ]
  },
  {
   "cell_type": "markdown",
   "id": "61757d4b",
   "metadata": {},
   "source": [
    "реимущественное большиство моделей выборки имеют налог 125-150 у.е."
   ]
  },
  {
   "cell_type": "code",
   "execution_count": 34,
   "id": "d67f971a",
   "metadata": {},
   "outputs": [
    {
     "data": {
      "text/plain": [
       "<AxesSubplot:ylabel='Frequency'>"
      ]
     },
     "execution_count": 34,
     "metadata": {},
     "output_type": "execute_result"
    },
    {
     "data": {
      "image/png": "[encoded data removed]",
      "text/plain": [
       "<Figure size 432x288 with 1 Axes>"
      ]
     },
     "metadata": {
      "needs_background": "light"
     },
     "output_type": "display_data"
    }
   ],
   "source": [
    "df['miles per galoon'].plot(kind = 'hist')"
   ]
  },
  {
   "cell_type": "markdown",
   "id": "d0e8c011",
   "metadata": {},
   "source": [
    "Большинство моделей имеют расход топлива 45-60 миль на галлон"
   ]
  },
  {
   "cell_type": "code",
   "execution_count": 35,
   "id": "770898ed",
   "metadata": {},
   "outputs": [
    {
     "data": {
      "text/plain": [
       "<AxesSubplot:ylabel='Frequency'>"
      ]
     },
     "execution_count": 35,
     "metadata": {},
     "output_type": "execute_result"
    },
    {
     "data": {
      "image/png": "[encoded data removed]",
      "text/plain": [
       "<Figure size 432x288 with 1 Axes>"
      ]
     },
     "metadata": {
      "needs_background": "light"
     },
     "output_type": "display_data"
    }
   ],
   "source": [
    "df['size'].plot(kind = 'hist')"
   ]
  },
  {
   "cell_type": "markdown",
   "id": "d9f995cd",
   "metadata": {},
   "source": [
    "Самый распространенный объем двигателя - 2.0 л"
   ]
  },
  {
   "cell_type": "code",
   "execution_count": 37,
   "id": "6c098710",
   "metadata": {},
   "outputs": [],
   "source": [
    "df.to_csv('bmw1.csv', sep=',', index=False)"
   ]
  },
  {
   "cell_type": "code",
   "execution_count": 38,
   "id": "d9d71e19",
   "metadata": {},
   "outputs": [
    {
     "data": {
      "image/png": "[encoded data removed]",
      "text/plain": [
       "<Figure size 864x648 with 2 Axes>"
      ]
     },
     "metadata": {
      "needs_background": "light"
     },
     "output_type": "display_data"
    }
   ],
   "source": [
    "import seaborn as sns\n",
    "corrmat = df.corr()\n",
    "f, ax = plt.subplots(figsize=(12, 9))\n",
    "sns.heatmap(corrmat, annot=True)\n",
    "plt.show()"
   ]
  },
  {
   "cell_type": "markdown",
   "id": "46951c8a",
   "metadata": {},
   "source": [
    "Наибольшая корреляция между факторами Цена и Год"
   ]
  },
  {
   "cell_type": "code",
   "execution_count": 39,
   "id": "bc03e64c",
   "metadata": {},
   "outputs": [
    {
     "data": {
      "text/html": [
       "<div>\n",
       "<style scoped>\n",
       "    .dataframe tbody tr th:only-of-type {\n",
       "        vertical-align: middle;\n",
       "    }\n",
       "\n",
       "    .dataframe tbody tr th {\n",
       "        vertical-align: top;\n",
       "    }\n",
       "\n",
       "    .dataframe thead th {\n",
       "        text-align: right;\n",
       "    }\n",
       "</style>\n",
       "<table border=\"1\" class=\"dataframe\">\n",
       "  <thead>\n",
       "    <tr style=\"text-align: right;\">\n",
       "      <th></th>\n",
       "      <th>model</th>\n",
       "      <th>year</th>\n",
       "      <th>price</th>\n",
       "      <th>type</th>\n",
       "      <th>distance</th>\n",
       "      <th>fuel</th>\n",
       "      <th>tax</th>\n",
       "      <th>miles per galoon</th>\n",
       "      <th>size</th>\n",
       "    </tr>\n",
       "  </thead>\n",
       "  <tbody>\n",
       "    <tr>\n",
       "      <th>count</th>\n",
       "      <td>847.000000</td>\n",
       "      <td>847.000000</td>\n",
       "      <td>847.000000</td>\n",
       "      <td>847.000000</td>\n",
       "      <td>847.000000</td>\n",
       "      <td>847.000000</td>\n",
       "      <td>847.000000</td>\n",
       "      <td>847.000000</td>\n",
       "      <td>847.000000</td>\n",
       "    </tr>\n",
       "    <tr>\n",
       "      <th>mean</th>\n",
       "      <td>4.318772</td>\n",
       "      <td>2017.055490</td>\n",
       "      <td>21202.038959</td>\n",
       "      <td>1.436836</td>\n",
       "      <td>24695.637662</td>\n",
       "      <td>0.793388</td>\n",
       "      <td>129.029464</td>\n",
       "      <td>55.626494</td>\n",
       "      <td>2.170956</td>\n",
       "    </tr>\n",
       "    <tr>\n",
       "      <th>std</th>\n",
       "      <td>4.800996</td>\n",
       "      <td>1.707442</td>\n",
       "      <td>9043.637895</td>\n",
       "      <td>0.756665</td>\n",
       "      <td>19827.618230</td>\n",
       "      <td>1.307752</td>\n",
       "      <td>55.244498</td>\n",
       "      <td>12.438446</td>\n",
       "      <td>0.509050</td>\n",
       "    </tr>\n",
       "    <tr>\n",
       "      <th>min</th>\n",
       "      <td>0.000000</td>\n",
       "      <td>2013.000000</td>\n",
       "      <td>6998.000000</td>\n",
       "      <td>0.000000</td>\n",
       "      <td>10.000000</td>\n",
       "      <td>0.000000</td>\n",
       "      <td>0.000000</td>\n",
       "      <td>31.400000</td>\n",
       "      <td>1.500000</td>\n",
       "    </tr>\n",
       "    <tr>\n",
       "      <th>25%</th>\n",
       "      <td>1.000000</td>\n",
       "      <td>2016.000000</td>\n",
       "      <td>14991.000000</td>\n",
       "      <td>1.000000</td>\n",
       "      <td>9007.000000</td>\n",
       "      <td>0.000000</td>\n",
       "      <td>125.000000</td>\n",
       "      <td>48.700000</td>\n",
       "      <td>2.000000</td>\n",
       "    </tr>\n",
       "    <tr>\n",
       "      <th>50%</th>\n",
       "      <td>2.000000</td>\n",
       "      <td>2017.000000</td>\n",
       "      <td>19000.000000</td>\n",
       "      <td>2.000000</td>\n",
       "      <td>20001.000000</td>\n",
       "      <td>0.000000</td>\n",
       "      <td>145.000000</td>\n",
       "      <td>54.300000</td>\n",
       "      <td>2.000000</td>\n",
       "    </tr>\n",
       "    <tr>\n",
       "      <th>75%</th>\n",
       "      <td>5.500000</td>\n",
       "      <td>2019.000000</td>\n",
       "      <td>24944.000000</td>\n",
       "      <td>2.000000</td>\n",
       "      <td>35618.000000</td>\n",
       "      <td>3.000000</td>\n",
       "      <td>150.000000</td>\n",
       "      <td>62.800000</td>\n",
       "      <td>2.000000</td>\n",
       "    </tr>\n",
       "    <tr>\n",
       "      <th>max</th>\n",
       "      <td>19.000000</td>\n",
       "      <td>2020.000000</td>\n",
       "      <td>50647.055451</td>\n",
       "      <td>2.000000</td>\n",
       "      <td>84633.016616</td>\n",
       "      <td>3.000000</td>\n",
       "      <td>295.328415</td>\n",
       "      <td>104.084750</td>\n",
       "      <td>3.000000</td>\n",
       "    </tr>\n",
       "  </tbody>\n",
       "</table>\n",
       "</div>"
      ],
      "text/plain": [
       "            model         year         price        type      distance  \\\n",
       "count  847.000000   847.000000    847.000000  847.000000    847.000000   \n",
       "mean     4.318772  2017.055490  21202.038959    1.436836  24695.637662   \n",
       "std      4.800996     1.707442   9043.637895    0.756665  19827.618230   \n",
       "min      0.000000  2013.000000   6998.000000    0.000000     10.000000   \n",
       "25%      1.000000  2016.000000  14991.000000    1.000000   9007.000000   \n",
       "50%      2.000000  2017.000000  19000.000000    2.000000  20001.000000   \n",
       "75%      5.500000  2019.000000  24944.000000    2.000000  35618.000000   \n",
       "max     19.000000  2020.000000  50647.055451    2.000000  84633.016616   \n",
       "\n",
       "             fuel         tax  miles per galoon        size  \n",
       "count  847.000000  847.000000        847.000000  847.000000  \n",
       "mean     0.793388  129.029464         55.626494    2.170956  \n",
       "std      1.307752   55.244498         12.438446    0.509050  \n",
       "min      0.000000    0.000000         31.400000    1.500000  \n",
       "25%      0.000000  125.000000         48.700000    2.000000  \n",
       "50%      0.000000  145.000000         54.300000    2.000000  \n",
       "75%      3.000000  150.000000         62.800000    2.000000  \n",
       "max      3.000000  295.328415        104.084750    3.000000  "
      ]
     },
     "execution_count": 39,
     "metadata": {},
     "output_type": "execute_result"
    }
   ],
   "source": [
    "df.describe()"
   ]
  },
  {
   "cell_type": "code",
   "execution_count": null,
   "id": "aaf85075",
   "metadata": {},
   "outputs": [],
   "source": []
  }
 ],
 "metadata": {
  "kernelspec": {
   "display_name": "Python 3",
   "language": "python",
   "name": "python3"
  },
  "language_info": {
   "codemirror_mode": {
    "name": "ipython",
    "version": 3
   },
   "file_extension": ".py",
   "mimetype": "text/x-python",
   "name": "python",
   "nbconvert_exporter": "python",
   "pygments_lexer": "ipython3",
   "version": "3.8.8"
  }
 },
 "nbformat": 4,
 "nbformat_minor": 5
}
