{
 "cells": [
  {
   "cell_type": "code",
   "execution_count": 1,
   "id": "6403f564",
   "metadata": {},
   "outputs": [],
   "source": [
    "import numpy as np\n",
    "import matplotlib.pyplot as plt\n",
    "import pandas as pd"
   ]
  },
  {
   "cell_type": "code",
   "execution_count": 2,
   "id": "656a4819",
   "metadata": {},
   "outputs": [
    {
     "data": {
      "text/html": [
       "<div>\n",
       "<style scoped>\n",
       "    .dataframe tbody tr th:only-of-type {\n",
       "        vertical-align: middle;\n",
       "    }\n",
       "\n",
       "    .dataframe tbody tr th {\n",
       "        vertical-align: top;\n",
       "    }\n",
       "\n",
       "    .dataframe thead th {\n",
       "        text-align: right;\n",
       "    }\n",
       "</style>\n",
       "<table border=\"1\" class=\"dataframe\">\n",
       "  <thead>\n",
       "    <tr style=\"text-align: right;\">\n",
       "      <th></th>\n",
       "      <th>model</th>\n",
       "      <th>year</th>\n",
       "      <th>price</th>\n",
       "      <th>type</th>\n",
       "      <th>distance</th>\n",
       "      <th>fuel</th>\n",
       "      <th>tax</th>\n",
       "      <th>miles per galoon</th>\n",
       "      <th>size</th>\n",
       "    </tr>\n",
       "  </thead>\n",
       "  <tbody>\n",
       "    <tr>\n",
       "      <th>0</th>\n",
       "      <td>4</td>\n",
       "      <td>2014</td>\n",
       "      <td>11200.000000</td>\n",
       "      <td>0</td>\n",
       "      <td>67068.0</td>\n",
       "      <td>0</td>\n",
       "      <td>125.000000</td>\n",
       "      <td>57.6</td>\n",
       "      <td>2.0</td>\n",
       "    </tr>\n",
       "    <tr>\n",
       "      <th>1</th>\n",
       "      <td>11</td>\n",
       "      <td>2017</td>\n",
       "      <td>18500.000000</td>\n",
       "      <td>2</td>\n",
       "      <td>12160.0</td>\n",
       "      <td>0</td>\n",
       "      <td>145.000000</td>\n",
       "      <td>65.7</td>\n",
       "      <td>2.0</td>\n",
       "    </tr>\n",
       "    <tr>\n",
       "      <th>2</th>\n",
       "      <td>2</td>\n",
       "      <td>2017</td>\n",
       "      <td>18300.000000</td>\n",
       "      <td>2</td>\n",
       "      <td>20000.0</td>\n",
       "      <td>0</td>\n",
       "      <td>150.000000</td>\n",
       "      <td>62.8</td>\n",
       "      <td>2.0</td>\n",
       "    </tr>\n",
       "    <tr>\n",
       "      <th>3</th>\n",
       "      <td>0</td>\n",
       "      <td>2019</td>\n",
       "      <td>29398.000000</td>\n",
       "      <td>2</td>\n",
       "      <td>9983.0</td>\n",
       "      <td>3</td>\n",
       "      <td>145.000000</td>\n",
       "      <td>39.8</td>\n",
       "      <td>3.0</td>\n",
       "    </tr>\n",
       "    <tr>\n",
       "      <th>4</th>\n",
       "      <td>2</td>\n",
       "      <td>2018</td>\n",
       "      <td>22998.000000</td>\n",
       "      <td>2</td>\n",
       "      <td>16360.0</td>\n",
       "      <td>0</td>\n",
       "      <td>145.000000</td>\n",
       "      <td>57.7</td>\n",
       "      <td>2.0</td>\n",
       "    </tr>\n",
       "    <tr>\n",
       "      <th>...</th>\n",
       "      <td>...</td>\n",
       "      <td>...</td>\n",
       "      <td>...</td>\n",
       "      <td>...</td>\n",
       "      <td>...</td>\n",
       "      <td>...</td>\n",
       "      <td>...</td>\n",
       "      <td>...</td>\n",
       "      <td>...</td>\n",
       "    </tr>\n",
       "    <tr>\n",
       "      <th>842</th>\n",
       "      <td>0</td>\n",
       "      <td>2017</td>\n",
       "      <td>13500.000000</td>\n",
       "      <td>1</td>\n",
       "      <td>16423.0</td>\n",
       "      <td>0</td>\n",
       "      <td>150.000000</td>\n",
       "      <td>72.4</td>\n",
       "      <td>1.5</td>\n",
       "    </tr>\n",
       "    <tr>\n",
       "      <th>843</th>\n",
       "      <td>0</td>\n",
       "      <td>2016</td>\n",
       "      <td>8800.000000</td>\n",
       "      <td>1</td>\n",
       "      <td>51002.0</td>\n",
       "      <td>0</td>\n",
       "      <td>0.000000</td>\n",
       "      <td>83.1</td>\n",
       "      <td>1.5</td>\n",
       "    </tr>\n",
       "    <tr>\n",
       "      <th>844</th>\n",
       "      <td>0</td>\n",
       "      <td>2015</td>\n",
       "      <td>16314.000000</td>\n",
       "      <td>1</td>\n",
       "      <td>17846.0</td>\n",
       "      <td>3</td>\n",
       "      <td>295.328415</td>\n",
       "      <td>35.3</td>\n",
       "      <td>3.0</td>\n",
       "    </tr>\n",
       "    <tr>\n",
       "      <th>845</th>\n",
       "      <td>4</td>\n",
       "      <td>2014</td>\n",
       "      <td>15495.000000</td>\n",
       "      <td>2</td>\n",
       "      <td>51565.0</td>\n",
       "      <td>0</td>\n",
       "      <td>160.000000</td>\n",
       "      <td>51.4</td>\n",
       "      <td>2.0</td>\n",
       "    </tr>\n",
       "    <tr>\n",
       "      <th>846</th>\n",
       "      <td>15</td>\n",
       "      <td>2019</td>\n",
       "      <td>50647.055451</td>\n",
       "      <td>2</td>\n",
       "      <td>5597.0</td>\n",
       "      <td>0</td>\n",
       "      <td>145.000000</td>\n",
       "      <td>37.7</td>\n",
       "      <td>3.0</td>\n",
       "    </tr>\n",
       "  </tbody>\n",
       "</table>\n",
       "<p>847 rows × 9 columns</p>\n",
       "</div>"
      ],
      "text/plain": [
       "     model  year         price  type  distance  fuel         tax  \\\n",
       "0        4  2014  11200.000000     0   67068.0     0  125.000000   \n",
       "1       11  2017  18500.000000     2   12160.0     0  145.000000   \n",
       "2        2  2017  18300.000000     2   20000.0     0  150.000000   \n",
       "3        0  2019  29398.000000     2    9983.0     3  145.000000   \n",
       "4        2  2018  22998.000000     2   16360.0     0  145.000000   \n",
       "..     ...   ...           ...   ...       ...   ...         ...   \n",
       "842      0  2017  13500.000000     1   16423.0     0  150.000000   \n",
       "843      0  2016   8800.000000     1   51002.0     0    0.000000   \n",
       "844      0  2015  16314.000000     1   17846.0     3  295.328415   \n",
       "845      4  2014  15495.000000     2   51565.0     0  160.000000   \n",
       "846     15  2019  50647.055451     2    5597.0     0  145.000000   \n",
       "\n",
       "     miles per galoon  size  \n",
       "0                57.6   2.0  \n",
       "1                65.7   2.0  \n",
       "2                62.8   2.0  \n",
       "3                39.8   3.0  \n",
       "4                57.7   2.0  \n",
       "..                ...   ...  \n",
       "842              72.4   1.5  \n",
       "843              83.1   1.5  \n",
       "844              35.3   3.0  \n",
       "845              51.4   2.0  \n",
       "846              37.7   3.0  \n",
       "\n",
       "[847 rows x 9 columns]"
      ]
     },
     "execution_count": 2,
     "metadata": {},
     "output_type": "execute_result"
    }
   ],
   "source": [
    "df = pd.read_csv('bmw1.csv', sep=',')\n",
    "df"
   ]
  },
  {
   "cell_type": "code",
   "execution_count": 3,
   "id": "d6213330",
   "metadata": {},
   "outputs": [
    {
     "data": {
      "text/html": [
       "<div>\n",
       "<style scoped>\n",
       "    .dataframe tbody tr th:only-of-type {\n",
       "        vertical-align: middle;\n",
       "    }\n",
       "\n",
       "    .dataframe tbody tr th {\n",
       "        vertical-align: top;\n",
       "    }\n",
       "\n",
       "    .dataframe thead th {\n",
       "        text-align: right;\n",
       "    }\n",
       "</style>\n",
       "<table border=\"1\" class=\"dataframe\">\n",
       "  <thead>\n",
       "    <tr style=\"text-align: right;\">\n",
       "      <th></th>\n",
       "      <th>model</th>\n",
       "      <th>year</th>\n",
       "      <th>type</th>\n",
       "      <th>distance</th>\n",
       "      <th>fuel</th>\n",
       "      <th>tax</th>\n",
       "      <th>miles per galoon</th>\n",
       "      <th>size</th>\n",
       "    </tr>\n",
       "  </thead>\n",
       "  <tbody>\n",
       "    <tr>\n",
       "      <th>0</th>\n",
       "      <td>4</td>\n",
       "      <td>2014</td>\n",
       "      <td>0</td>\n",
       "      <td>67068.0</td>\n",
       "      <td>0</td>\n",
       "      <td>125.000000</td>\n",
       "      <td>57.6</td>\n",
       "      <td>2.0</td>\n",
       "    </tr>\n",
       "    <tr>\n",
       "      <th>1</th>\n",
       "      <td>11</td>\n",
       "      <td>2017</td>\n",
       "      <td>2</td>\n",
       "      <td>12160.0</td>\n",
       "      <td>0</td>\n",
       "      <td>145.000000</td>\n",
       "      <td>65.7</td>\n",
       "      <td>2.0</td>\n",
       "    </tr>\n",
       "    <tr>\n",
       "      <th>2</th>\n",
       "      <td>2</td>\n",
       "      <td>2017</td>\n",
       "      <td>2</td>\n",
       "      <td>20000.0</td>\n",
       "      <td>0</td>\n",
       "      <td>150.000000</td>\n",
       "      <td>62.8</td>\n",
       "      <td>2.0</td>\n",
       "    </tr>\n",
       "    <tr>\n",
       "      <th>3</th>\n",
       "      <td>0</td>\n",
       "      <td>2019</td>\n",
       "      <td>2</td>\n",
       "      <td>9983.0</td>\n",
       "      <td>3</td>\n",
       "      <td>145.000000</td>\n",
       "      <td>39.8</td>\n",
       "      <td>3.0</td>\n",
       "    </tr>\n",
       "    <tr>\n",
       "      <th>4</th>\n",
       "      <td>2</td>\n",
       "      <td>2018</td>\n",
       "      <td>2</td>\n",
       "      <td>16360.0</td>\n",
       "      <td>0</td>\n",
       "      <td>145.000000</td>\n",
       "      <td>57.7</td>\n",
       "      <td>2.0</td>\n",
       "    </tr>\n",
       "    <tr>\n",
       "      <th>...</th>\n",
       "      <td>...</td>\n",
       "      <td>...</td>\n",
       "      <td>...</td>\n",
       "      <td>...</td>\n",
       "      <td>...</td>\n",
       "      <td>...</td>\n",
       "      <td>...</td>\n",
       "      <td>...</td>\n",
       "    </tr>\n",
       "    <tr>\n",
       "      <th>842</th>\n",
       "      <td>0</td>\n",
       "      <td>2017</td>\n",
       "      <td>1</td>\n",
       "      <td>16423.0</td>\n",
       "      <td>0</td>\n",
       "      <td>150.000000</td>\n",
       "      <td>72.4</td>\n",
       "      <td>1.5</td>\n",
       "    </tr>\n",
       "    <tr>\n",
       "      <th>843</th>\n",
       "      <td>0</td>\n",
       "      <td>2016</td>\n",
       "      <td>1</td>\n",
       "      <td>51002.0</td>\n",
       "      <td>0</td>\n",
       "      <td>0.000000</td>\n",
       "      <td>83.1</td>\n",
       "      <td>1.5</td>\n",
       "    </tr>\n",
       "    <tr>\n",
       "      <th>844</th>\n",
       "      <td>0</td>\n",
       "      <td>2015</td>\n",
       "      <td>1</td>\n",
       "      <td>17846.0</td>\n",
       "      <td>3</td>\n",
       "      <td>295.328415</td>\n",
       "      <td>35.3</td>\n",
       "      <td>3.0</td>\n",
       "    </tr>\n",
       "    <tr>\n",
       "      <th>845</th>\n",
       "      <td>4</td>\n",
       "      <td>2014</td>\n",
       "      <td>2</td>\n",
       "      <td>51565.0</td>\n",
       "      <td>0</td>\n",
       "      <td>160.000000</td>\n",
       "      <td>51.4</td>\n",
       "      <td>2.0</td>\n",
       "    </tr>\n",
       "    <tr>\n",
       "      <th>846</th>\n",
       "      <td>15</td>\n",
       "      <td>2019</td>\n",
       "      <td>2</td>\n",
       "      <td>5597.0</td>\n",
       "      <td>0</td>\n",
       "      <td>145.000000</td>\n",
       "      <td>37.7</td>\n",
       "      <td>3.0</td>\n",
       "    </tr>\n",
       "  </tbody>\n",
       "</table>\n",
       "<p>847 rows × 8 columns</p>\n",
       "</div>"
      ],
      "text/plain": [
       "     model  year  type  distance  fuel         tax  miles per galoon  size\n",
       "0        4  2014     0   67068.0     0  125.000000              57.6   2.0\n",
       "1       11  2017     2   12160.0     0  145.000000              65.7   2.0\n",
       "2        2  2017     2   20000.0     0  150.000000              62.8   2.0\n",
       "3        0  2019     2    9983.0     3  145.000000              39.8   3.0\n",
       "4        2  2018     2   16360.0     0  145.000000              57.7   2.0\n",
       "..     ...   ...   ...       ...   ...         ...               ...   ...\n",
       "842      0  2017     1   16423.0     0  150.000000              72.4   1.5\n",
       "843      0  2016     1   51002.0     0    0.000000              83.1   1.5\n",
       "844      0  2015     1   17846.0     3  295.328415              35.3   3.0\n",
       "845      4  2014     2   51565.0     0  160.000000              51.4   2.0\n",
       "846     15  2019     2    5597.0     0  145.000000              37.7   3.0\n",
       "\n",
       "[847 rows x 8 columns]"
      ]
     },
     "execution_count": 3,
     "metadata": {},
     "output_type": "execute_result"
    }
   ],
   "source": [
    "X = df.iloc[:, [True,True,False,True,True,True,True,True,True]]\n",
    "y = df['price']\n",
    "from sklearn.model_selection import train_test_split\n",
    "X_train, X_test, y_train, y_test = train_test_split(X, y, test_size=0.2, random_state=10)\n",
    "X"
   ]
  },
  {
   "cell_type": "code",
   "execution_count": 4,
   "id": "29754565",
   "metadata": {},
   "outputs": [
    {
     "data": {
      "text/plain": [
       "(array([3475.27760003]), -6988744.81979279)"
      ]
     },
     "execution_count": 4,
     "metadata": {},
     "output_type": "execute_result"
    }
   ],
   "source": [
    "f1 = ['year']\n",
    "\n",
    "from sklearn.linear_model import LinearRegression\n",
    "sr = LinearRegression().fit(X_train[f1], y_train)\n",
    "\n",
    "sr.coef_, sr.intercept_"
   ]
  },
  {
   "cell_type": "markdown",
   "id": "6e7c5044",
   "metadata": {},
   "source": [
    "Линейная регрессия имеет вид Цена = 3475.27760003*Год-6988744.81979279"
   ]
  },
  {
   "cell_type": "code",
   "execution_count": 5,
   "id": "62f31a4c",
   "metadata": {},
   "outputs": [
    {
     "data": {
      "text/plain": [
       "(0.428, 0.361)"
      ]
     },
     "execution_count": 5,
     "metadata": {},
     "output_type": "execute_result"
    }
   ],
   "source": [
    "y_pred = sr.predict(X_test[f1])\n",
    "sr.score(X_train[f1], y_train).round(3), sr.score(X_test[f1], y_test).round(3)"
   ]
  },
  {
   "cell_type": "code",
   "execution_count": 6,
   "id": "9431a131",
   "metadata": {},
   "outputs": [
    {
     "data": {
      "text/plain": [
       "(6783.8, 7378.87)"
      ]
     },
     "execution_count": 6,
     "metadata": {},
     "output_type": "execute_result"
    }
   ],
   "source": [
    "from sklearn.metrics import mean_squared_error\n",
    "mean_squared_error(y_train, sr.predict(X_train[f1]), squared=False).round(2), mean_squared_error(y_test, y_pred, squared=False).round(2)"
   ]
  },
  {
   "cell_type": "code",
   "execution_count": 7,
   "id": "645f5397",
   "metadata": {},
   "outputs": [
    {
     "data": {
      "image/png": "[encoded data removed]",
      "text/plain": [
       "<Figure size 432x288 with 1 Axes>"
      ]
     },
     "metadata": {
      "needs_background": "light"
     },
     "output_type": "display_data"
    }
   ],
   "source": [
    "plt.scatter(X_test['year'], y_test, color = 'red')\n",
    "plt.plot(X_test['year'], sr.predict(X_test[f1]), 'bo')\n",
    "plt.title('Price & Year (Test set)')\n",
    "plt.xlabel('Year')\n",
    "plt.ylabel('Price')\n",
    "plt.show()"
   ]
  },
  {
   "cell_type": "markdown",
   "id": "59b6271c",
   "metadata": {},
   "source": [
    "График показал, чем моложе автомобиль, тем выше его цена"
   ]
  },
  {
   "cell_type": "code",
   "execution_count": 8,
   "id": "d1d501b9",
   "metadata": {},
   "outputs": [
    {
     "data": {
      "text/plain": [
       "0.801"
      ]
     },
     "execution_count": 8,
     "metadata": {},
     "output_type": "execute_result"
    }
   ],
   "source": [
    "mr = LinearRegression().fit(X_train, y_train)\n",
    "mr.score(X_train, y_train).round(3)"
   ]
  },
  {
   "cell_type": "markdown",
   "id": "6b6ccd07",
   "metadata": {},
   "source": [
    "Коэффициент регрессии = 0.801"
   ]
  },
  {
   "cell_type": "code",
   "execution_count": 9,
   "id": "9955d463",
   "metadata": {},
   "outputs": [
    {
     "data": {
      "image/png": "[encoded data removed]",
      "text/plain": [
       "<Figure size 432x288 with 1 Axes>"
      ]
     },
     "metadata": {
      "needs_background": "light"
     },
     "output_type": "display_data"
    }
   ],
   "source": [
    "# Visualising the Test set results\n",
    "plt.scatter(X_test['year'], y_test, color = 'red')\n",
    "plt.plot(X_test['year'], mr.predict(X_test), 'bo')\n",
    "plt.title('Price & Year')\n",
    "plt.xlabel('Year')\n",
    "plt.ylabel('Price')\n",
    "plt.show()"
   ]
  },
  {
   "cell_type": "code",
   "execution_count": 10,
   "id": "6ce9261e",
   "metadata": {},
   "outputs": [
    {
     "data": {
      "text/html": [
       "<table class=\"simpletable\">\n",
       "<caption>OLS Regression Results</caption>\n",
       "<tr>\n",
       "  <th>Dep. Variable:</th>          <td>price</td>      <th>  R-squared:         </th> <td>   0.801</td> \n",
       "</tr>\n",
       "<tr>\n",
       "  <th>Model:</th>                   <td>OLS</td>       <th>  Adj. R-squared:    </th> <td>   0.799</td> \n",
       "</tr>\n",
       "<tr>\n",
       "  <th>Method:</th>             <td>Least Squares</td>  <th>  F-statistic:       </th> <td>   337.0</td> \n",
       "</tr>\n",
       "<tr>\n",
       "  <th>Date:</th>             <td>Tue, 28 Dec 2021</td> <th>  Prob (F-statistic):</th> <td>1.05e-228</td>\n",
       "</tr>\n",
       "<tr>\n",
       "  <th>Time:</th>                 <td>01:53:10</td>     <th>  Log-Likelihood:    </th> <td> -6575.2</td> \n",
       "</tr>\n",
       "<tr>\n",
       "  <th>No. Observations:</th>      <td>   677</td>      <th>  AIC:               </th> <td>1.317e+04</td>\n",
       "</tr>\n",
       "<tr>\n",
       "  <th>Df Residuals:</th>          <td>   668</td>      <th>  BIC:               </th> <td>1.321e+04</td>\n",
       "</tr>\n",
       "<tr>\n",
       "  <th>Df Model:</th>              <td>     8</td>      <th>                     </th>     <td> </td>    \n",
       "</tr>\n",
       "<tr>\n",
       "  <th>Covariance Type:</th>      <td>nonrobust</td>    <th>                     </th>     <td> </td>    \n",
       "</tr>\n",
       "</table>\n",
       "<table class=\"simpletable\">\n",
       "<tr>\n",
       "          <td></td>            <th>coef</th>     <th>std err</th>      <th>t</th>      <th>P>|t|</th>  <th>[0.025</th>    <th>0.975]</th>  \n",
       "</tr>\n",
       "<tr>\n",
       "  <th>const</th>            <td> -5.01e+06</td> <td> 2.77e+05</td> <td>  -18.114</td> <td> 0.000</td> <td>-5.55e+06</td> <td>-4.47e+06</td>\n",
       "</tr>\n",
       "<tr>\n",
       "  <th>model</th>            <td>  617.4266</td> <td>   36.680</td> <td>   16.833</td> <td> 0.000</td> <td>  545.404</td> <td>  689.449</td>\n",
       "</tr>\n",
       "<tr>\n",
       "  <th>year</th>             <td> 2490.0296</td> <td>  136.981</td> <td>   18.178</td> <td> 0.000</td> <td> 2221.065</td> <td> 2758.994</td>\n",
       "</tr>\n",
       "<tr>\n",
       "  <th>type</th>             <td>  966.2640</td> <td>  223.609</td> <td>    4.321</td> <td> 0.000</td> <td>  527.202</td> <td> 1405.326</td>\n",
       "</tr>\n",
       "<tr>\n",
       "  <th>distance</th>         <td>   -0.1027</td> <td>    0.012</td> <td>   -8.546</td> <td> 0.000</td> <td>   -0.126</td> <td>   -0.079</td>\n",
       "</tr>\n",
       "<tr>\n",
       "  <th>fuel</th>             <td> -173.3647</td> <td>  154.916</td> <td>   -1.119</td> <td> 0.264</td> <td> -477.547</td> <td>  130.817</td>\n",
       "</tr>\n",
       "<tr>\n",
       "  <th>tax</th>              <td>  -22.2534</td> <td>    3.807</td> <td>   -5.846</td> <td> 0.000</td> <td>  -29.728</td> <td>  -14.779</td>\n",
       "</tr>\n",
       "<tr>\n",
       "  <th>miles per galoon</th> <td>  -91.8513</td> <td>   19.773</td> <td>   -4.645</td> <td> 0.000</td> <td> -130.676</td> <td>  -53.027</td>\n",
       "</tr>\n",
       "<tr>\n",
       "  <th>size</th>             <td> 6864.4488</td> <td>  387.433</td> <td>   17.718</td> <td> 0.000</td> <td> 6103.716</td> <td> 7625.181</td>\n",
       "</tr>\n",
       "</table>\n",
       "<table class=\"simpletable\">\n",
       "<tr>\n",
       "  <th>Omnibus:</th>       <td>148.626</td> <th>  Durbin-Watson:     </th> <td>   1.967</td> \n",
       "</tr>\n",
       "<tr>\n",
       "  <th>Prob(Omnibus):</th> <td> 0.000</td>  <th>  Jarque-Bera (JB):  </th> <td> 466.377</td> \n",
       "</tr>\n",
       "<tr>\n",
       "  <th>Skew:</th>          <td> 1.043</td>  <th>  Prob(JB):          </th> <td>5.34e-102</td>\n",
       "</tr>\n",
       "<tr>\n",
       "  <th>Kurtosis:</th>      <td> 6.491</td>  <th>  Cond. No.          </th> <td>5.76e+07</td> \n",
       "</tr>\n",
       "</table><br/><br/>Notes:<br/>[1] Standard Errors assume that the covariance matrix of the errors is correctly specified.<br/>[2] The condition number is large, 5.76e+07. This might indicate that there are<br/>strong multicollinearity or other numerical problems."
      ],
      "text/plain": [
       "<class 'statsmodels.iolib.summary.Summary'>\n",
       "\"\"\"\n",
       "                            OLS Regression Results                            \n",
       "==============================================================================\n",
       "Dep. Variable:                  price   R-squared:                       0.801\n",
       "Model:                            OLS   Adj. R-squared:                  0.799\n",
       "Method:                 Least Squares   F-statistic:                     337.0\n",
       "Date:                Tue, 28 Dec 2021   Prob (F-statistic):          1.05e-228\n",
       "Time:                        01:53:10   Log-Likelihood:                -6575.2\n",
       "No. Observations:                 677   AIC:                         1.317e+04\n",
       "Df Residuals:                     668   BIC:                         1.321e+04\n",
       "Df Model:                           8                                         \n",
       "Covariance Type:            nonrobust                                         \n",
       "====================================================================================\n",
       "                       coef    std err          t      P>|t|      [0.025      0.975]\n",
       "------------------------------------------------------------------------------------\n",
       "const             -5.01e+06   2.77e+05    -18.114      0.000   -5.55e+06   -4.47e+06\n",
       "model              617.4266     36.680     16.833      0.000     545.404     689.449\n",
       "year              2490.0296    136.981     18.178      0.000    2221.065    2758.994\n",
       "type               966.2640    223.609      4.321      0.000     527.202    1405.326\n",
       "distance            -0.1027      0.012     -8.546      0.000      -0.126      -0.079\n",
       "fuel              -173.3647    154.916     -1.119      0.264    -477.547     130.817\n",
       "tax                -22.2534      3.807     -5.846      0.000     -29.728     -14.779\n",
       "miles per galoon   -91.8513     19.773     -4.645      0.000    -130.676     -53.027\n",
       "size              6864.4488    387.433     17.718      0.000    6103.716    7625.181\n",
       "==============================================================================\n",
       "Omnibus:                      148.626   Durbin-Watson:                   1.967\n",
       "Prob(Omnibus):                  0.000   Jarque-Bera (JB):              466.377\n",
       "Skew:                           1.043   Prob(JB):                    5.34e-102\n",
       "Kurtosis:                       6.491   Cond. No.                     5.76e+07\n",
       "==============================================================================\n",
       "\n",
       "Notes:\n",
       "[1] Standard Errors assume that the covariance matrix of the errors is correctly specified.\n",
       "[2] The condition number is large, 5.76e+07. This might indicate that there are\n",
       "strong multicollinearity or other numerical problems.\n",
       "\"\"\""
      ]
     },
     "execution_count": 10,
     "metadata": {},
     "output_type": "execute_result"
    }
   ],
   "source": [
    "# Checking p-values\n",
    "import statsmodels.api as sm\n",
    "X1 = sm.add_constant(X_train)\n",
    "mr1 = sm.OLS(y_train, X1).fit()\n",
    "#mr1.pvalues\n",
    "mr1.summary()"
   ]
  },
  {
   "cell_type": "code",
   "execution_count": 11,
   "id": "0a6959ec",
   "metadata": {},
   "outputs": [
    {
     "data": {
      "text/plain": [
       "(array([ 2.96281166e+07,  4.47055922e+04, -8.67573633e+05, -6.40937494e+05,\n",
       "         2.72409932e+00,  1.15305608e+06,  9.43182436e+03,  2.25231535e+05,\n",
       "         4.64736847e+05, -4.05599395e+01, -2.29575359e+01, -5.36611863e+01,\n",
       "        -8.69012622e-03,  4.87773113e+01,  2.10472794e+00,  2.36303241e+01,\n",
       "         5.67977004e+02,  2.17389027e+02,  3.16026530e+02, -1.21143101e-03,\n",
       "        -5.66233981e+02, -4.69357344e+00, -1.11711496e+02, -2.19036603e+02,\n",
       "         1.73728346e+03,  9.74048208e-03, -1.82651736e+02, -5.33922603e+00,\n",
       "        -1.21225578e+01,  9.65659175e+02,  9.79620381e-07, -2.60729504e-02,\n",
       "         2.75344049e-05, -3.82706478e-03, -8.95477106e-02, -4.15770901e+03,\n",
       "         5.57133360e+00,  2.06758043e+01, -3.60646649e+02,  1.39960391e-01,\n",
       "         9.49364592e-01, -2.70798108e+01,  2.94000348e+00, -2.66143977e+02,\n",
       "        -6.58426858e+02]),\n",
       " 835869850.3358053)"
      ]
     },
     "execution_count": 11,
     "metadata": {},
     "output_type": "execute_result"
    }
   ],
   "source": [
    "# Fitting Polynomial Regression to the dataset\n",
    "from sklearn.preprocessing import PolynomialFeatures\n",
    "X_train_p = PolynomialFeatures().fit_transform(X_train)\n",
    "X_test_p = PolynomialFeatures().fit_transform(X_test)\n",
    "\n",
    "pr = LinearRegression().fit(X_train_p, y_train)\n",
    "\n",
    "# Getting parameters\n",
    "pr.coef_, pr.intercept_"
   ]
  },
  {
   "cell_type": "code",
   "execution_count": 12,
   "id": "47d1416a",
   "metadata": {},
   "outputs": [
    {
     "data": {
      "text/plain": [
       "0.915"
      ]
     },
     "execution_count": 12,
     "metadata": {},
     "output_type": "execute_result"
    }
   ],
   "source": [
    "# Predicting the Test set results\n",
    "y_pred = pr.predict(X_test_p)\n",
    "\n",
    "# Coefficient of determination R^2\n",
    "pr.score(X_train_p, y_train).round(3)"
   ]
  },
  {
   "cell_type": "markdown",
   "id": "bf3a1ebf",
   "metadata": {},
   "source": [
    "R^2 лучше для множественной линейной регресси."
   ]
  },
  {
   "cell_type": "code",
   "execution_count": 14,
   "id": "7ef9092d",
   "metadata": {},
   "outputs": [
    {
     "data": {
      "text/plain": [
       "(2622.71, 3325.22)"
      ]
     },
     "execution_count": 14,
     "metadata": {},
     "output_type": "execute_result"
    }
   ],
   "source": [
    "# Mean squared error\n",
    "mean_squared_error(y_train, pr.predict(X_train_p), squared=False).round(2), mean_squared_error(y_test, y_pred, squared=False).round(2)"
   ]
  },
  {
   "cell_type": "code",
   "execution_count": 15,
   "id": "4e549e0e",
   "metadata": {},
   "outputs": [
    {
     "data": {
      "image/png": "[encoded data removed]",
      "text/plain": [
       "<Figure size 432x288 with 1 Axes>"
      ]
     },
     "metadata": {
      "needs_background": "light"
     },
     "output_type": "display_data"
    }
   ],
   "source": [
    "# Visualising the Test set results\n",
    "plt.scatter(X_test['year'], y_test, color = 'red')\n",
    "plt.plot(X_test['year'], pr.predict(X_test_p), 'bo')\n",
    "plt.title('Price vs year (Test set)')\n",
    "plt.xlabel('year')\n",
    "plt.ylabel('Price')\n",
    "plt.show()\n"
   ]
  },
  {
   "cell_type": "code",
   "execution_count": 16,
   "id": "84901eba",
   "metadata": {},
   "outputs": [],
   "source": [
    "import pickle\n",
    "obj = {'X_train': X_train, 'X_test': X_test,'y_train': y_train,'y_test': y_test}\n",
    "output = open('bmw2.pkl', 'wb')\n",
    "pickle.dump(obj, output, 2)\n",
    "output.close()"
   ]
  },
  {
   "cell_type": "code",
   "execution_count": null,
   "id": "607e5bf9",
   "metadata": {},
   "outputs": [],
   "source": []
  }
 ],
 "metadata": {
  "kernelspec": {
   "display_name": "Python 3",
   "language": "python",
   "name": "python3"
  },
  "language_info": {
   "codemirror_mode": {
    "name": "ipython",
    "version": 3
   },
   "file_extension": ".py",
   "mimetype": "text/x-python",
   "name": "python",
   "nbconvert_exporter": "python",
   "pygments_lexer": "ipython3",
   "version": "3.8.8"
  }
 },
 "nbformat": 4,
 "nbformat_minor": 5
}
